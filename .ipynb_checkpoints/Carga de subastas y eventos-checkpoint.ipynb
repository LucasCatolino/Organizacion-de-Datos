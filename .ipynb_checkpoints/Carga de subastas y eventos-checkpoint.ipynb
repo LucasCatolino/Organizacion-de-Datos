{
 "cells": [
  {
   "cell_type": "code",
   "execution_count": 14,
   "metadata": {},
   "outputs": [],
   "source": [
    "import pandas as pd\n",
    "import numpy as np\n",
    "import matplotlib.pyplot as plt\n",
    "import seaborn as sns\n",
    "from subprocess import check_output\n",
    "from datetime import datetime\n",
    "\n",
    "%matplotlib inline\n",
    "\n",
    "plt.style.use('default')\n",
    "sns.set(style=\"whitegrid\")\n",
    "pd.options.display.float_format= '{:20,.2f}'.format"
   ]
  },
  {
   "cell_type": "code",
   "execution_count": 2,
   "metadata": {},
   "outputs": [],
   "source": [
    "dtypes= {'platform': 'int8', 'ref_type_id': 'int8', 'source_id': 'int8'}\n",
    "subastas= pd.read_csv('Datos\\\\auctions.csv.gzip',compression='gzip', dtype = dtypes, parse_dates= ['date'], low_memory=False)"
   ]
  },
  {
   "cell_type": "code",
   "execution_count": 4,
   "metadata": {},
   "outputs": [],
   "source": [
    "dtypes2= {'event_id': 'int16', 'application_id': 'int16', 'connection_type': 'str'}\n",
    "eventos= pd.read_csv('Datos\\events.csv.gzip',compression='gzip',engine='python',dtype = dtypes2, parse_dates= ['date'])\n",
    "eventos[['wifi']]= eventos[['wifi']].astype('bool')"
   ]
  },
  {
   "cell_type": "code",
   "execution_count": 15,
   "metadata": {},
   "outputs": [],
   "source": [
    "dtypes3= {'advertiser_id': 'int8', 'source_id': 'int8', 'latitude': 'float16', 'longitude': 'float16', 'carrier_id': 'float16', 'brand': 'float16', 'touchX': 'float16', 'touchY': 'float16'}\n",
    "clicks= pd.read_csv('Datos\\clicks.csv.gzip',compression='gzip',engine='python',dtype = dtypes3)\n",
    "clicks['device_id']=clicks['ref_hash']\n",
    "del clicks['ref_hash']"
   ]
  },
  {
   "cell_type": "code",
   "execution_count": 7,
   "metadata": {},
   "outputs": [],
   "source": [
    "instalaciones= pd.read_csv('Datos\\installs.csv.gzip',compression='gzip',engine='python')\n",
    "instalaciones['device_id']=instalaciones['ref_hash']\n",
    "del instalaciones['ref_hash']"
   ]
  },
  {
   "cell_type": "code",
   "execution_count": null,
   "metadata": {},
   "outputs": [],
   "source": []
  },
  {
   "cell_type": "code",
   "execution_count": null,
   "metadata": {},
   "outputs": [],
   "source": []
  },
  {
   "cell_type": "code",
   "execution_count": 48,
   "metadata": {},
   "outputs": [],
   "source": []
  },
  {
   "cell_type": "code",
   "execution_count": null,
   "metadata": {},
   "outputs": [],
   "source": []
  },
  {
   "cell_type": "code",
   "execution_count": null,
   "metadata": {},
   "outputs": [],
   "source": []
  },
  {
   "cell_type": "code",
   "execution_count": null,
   "metadata": {},
   "outputs": [],
   "source": []
  },
  {
   "cell_type": "code",
   "execution_count": null,
   "metadata": {},
   "outputs": [],
   "source": []
  },
  {
   "cell_type": "code",
   "execution_count": null,
   "metadata": {},
   "outputs": [],
   "source": []
  },
  {
   "cell_type": "code",
   "execution_count": null,
   "metadata": {},
   "outputs": [],
   "source": []
  }
 ],
 "metadata": {
  "kernelspec": {
   "display_name": "Python 3",
   "language": "python",
   "name": "python3"
  },
  "language_info": {
   "codemirror_mode": {
    "name": "ipython",
    "version": 3
   },
   "file_extension": ".py",
   "mimetype": "text/x-python",
   "name": "python",
   "nbconvert_exporter": "python",
   "pygments_lexer": "ipython3",
   "version": "3.6.8"
  }
 },
 "nbformat": 4,
 "nbformat_minor": 2
}
